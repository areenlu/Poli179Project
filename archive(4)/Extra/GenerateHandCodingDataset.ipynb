{
 "cells": [
  {
   "cell_type": "code",
   "execution_count": 7,
   "id": "67ef9fd2",
   "metadata": {},
   "outputs": [],
   "source": [
    "import pandas as pd\n",
    "\n",
    "data = pd.read_csv('/home/jandolina/teams/jack_areen_rubin/Data/fbpac-ads-en-US.csv')"
   ]
  },
  {
   "cell_type": "code",
   "execution_count": 8,
   "id": "1c6d3348",
   "metadata": {},
   "outputs": [],
   "source": [
    "# Set the random seed\n",
    "random_seed = 42  \n",
    "\n",
    "random_sample = data.sample(n=600, random_state=random_seed)"
   ]
  },
  {
   "cell_type": "code",
   "execution_count": 21,
   "id": "e3dd80bf",
   "metadata": {},
   "outputs": [],
   "source": [
    "areen_set = random_sample.iloc[0:200]\n",
    "rubin_set = random_sample.iloc[200:400]\n",
    "jack_set = random_sample.iloc[400:600]"
   ]
  },
  {
   "cell_type": "code",
   "execution_count": 23,
   "id": "163533f8",
   "metadata": {},
   "outputs": [
    {
     "data": {
      "text/plain": [
       "Index(['id', 'html', 'political', 'not_political', 'title', 'message',\n",
       "       'thumbnail', 'created_at', 'updated_at', 'lang', 'images',\n",
       "       'impressions', 'political_probability', 'targeting', 'suppressed',\n",
       "       'targets', 'advertiser', 'entities', 'page', 'lower_page', 'targetings',\n",
       "       'paid_for_by', 'targetedness', 'listbuilding_fundraising_proba'],\n",
       "      dtype='object')"
      ]
     },
     "execution_count": 23,
     "metadata": {},
     "output_type": "execute_result"
    }
   ],
   "source": [
    "jack_set.columns"
   ]
  },
  {
   "cell_type": "markdown",
   "id": "30c697c4",
   "metadata": {},
   "source": [
    "# download as a csv\n",
    "the 'images' column contains all of the links to all of the images alongside the post. the message contains the published text. Create a column within your csv (in excel or google sheets) called 'handcode'. 1 if the ad is on/related to gun legislation (ie: donate to us so we can stop gun violence, or just general calls to action) 0 if not."
   ]
  },
  {
   "cell_type": "code",
   "execution_count": 24,
   "id": "121fdae5",
   "metadata": {},
   "outputs": [],
   "source": [
    "jack_set.to_csv('jack-prehandcode.csv', index=False)"
   ]
  },
  {
   "cell_type": "code",
   "execution_count": 25,
   "id": "528bb84f",
   "metadata": {},
   "outputs": [],
   "source": [
    "rubin_set.to_csv('rubin-prehandcode.csv', index=False)"
   ]
  },
  {
   "cell_type": "code",
   "execution_count": 26,
   "id": "0adbb09a",
   "metadata": {},
   "outputs": [],
   "source": [
    "areen_set.to_csv('areen-prehandcode.csv', index=False)"
   ]
  }
 ],
 "metadata": {
  "kernelspec": {
   "display_name": "Python 3 (ipykernel)",
   "language": "python",
   "name": "python3"
  },
  "language_info": {
   "codemirror_mode": {
    "name": "ipython",
    "version": 3
   },
   "file_extension": ".py",
   "mimetype": "text/x-python",
   "name": "python",
   "nbconvert_exporter": "python",
   "pygments_lexer": "ipython3",
   "version": "3.9.5"
  }
 },
 "nbformat": 4,
 "nbformat_minor": 5
}
